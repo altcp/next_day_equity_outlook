{
 "cells": [
  {
   "cell_type": "code",
   "execution_count": 1,
   "metadata": {},
   "outputs": [],
   "source": [
    "#Simple Dashboard  \n",
    "\n",
    "#Instructions for visualization.  \n",
    "#You will need to change the stock symbol notation and the country for which the Exchange resides \n",
    "#and where the stock is traded on into that which represents your instrument of choice in the config file, ./config/config.yml"
   ]
  },
  {
   "cell_type": "code",
   "execution_count": 2,
   "metadata": {},
   "outputs": [
    {
     "name": "stdout",
     "output_type": "stream",
     "text": [
      " \n",
      " \n",
      "Sell Side Quantative Research (SSQR)\n",
      "Next Business Day Outlook, 0.0.1\n",
      " \n",
      " \n",
      "Data Observation: MSFT\n",
      "Start: 01/06/2020\n",
      "End: 08/02/2021\n",
      " \n",
      " \n",
      " \n",
      " \n",
      "          Date       Close  Log Returns     Outcome\n",
      "0   2020-01-08  162.089996     0.012416  small gain\n",
      "1   2020-01-09  161.339996    -0.004638  small loss\n",
      "2   2020-01-10  163.279999     0.011953  small gain\n",
      "3   2020-01-13  162.130005    -0.007068  small loss\n",
      "4   2020-01-14  163.179993     0.006455  small gain\n",
      "..         ...         ...          ...         ...\n",
      "267 2021-02-01  239.509995    -0.000584  small loss\n",
      "268 2021-02-02  243.000000     0.014466  small gain\n",
      "269 2021-02-03  242.009995    -0.004082  small loss\n",
      "270 2021-02-04  242.199997     0.000785  small gain\n",
      "271 2021-02-05  242.470001     0.001114  small gain\n",
      "\n",
      "[272 rows x 4 columns]\n",
      " \n",
      " \n",
      "                               SARIMAX Results                                \n",
      "==============================================================================\n",
      "Dep. Variable:                      y   No. Observations:                  271\n",
      "Model:               SARIMAX(0, 0, 1)   Log Likelihood                 619.649\n",
      "Date:                Tue, 09 Feb 2021   AIC                          -1233.299\n",
      "Time:                        05:35:27   BIC                          -1222.493\n",
      "Sample:                             0   HQIC                         -1228.960\n",
      "                                - 271                                         \n",
      "Covariance Type:                  opg                                         \n",
      "==============================================================================\n",
      "                 coef    std err          z      P>|z|      [0.025      0.975]\n",
      "------------------------------------------------------------------------------\n",
      "intercept      0.0020      0.001      1.747      0.081      -0.000       0.004\n",
      "ma.L1         -0.2487      0.034     -7.242      0.000      -0.316      -0.181\n",
      "sigma2         0.0006   3.01e-05     20.103      0.000       0.001       0.001\n",
      "===================================================================================\n",
      "Ljung-Box (Q):                       43.01   Jarque-Bera (JB):               179.27\n",
      "Prob(Q):                              0.34   Prob(JB):                         0.00\n",
      "Heteroskedasticity (H):               0.24   Skew:                             0.09\n",
      "Prob(H) (two-sided):                  0.00   Kurtosis:                         6.98\n",
      "===================================================================================\n",
      "\n",
      "Warnings:\n",
      "[1] Covariance matrix calculated using the outer product of gradients (complex-step).\n",
      " \n",
      " \n",
      "Outlook (Predicted Log Returns) for: 09/02/2021\n",
      " \n",
      "    SARIMAX     SVR\n",
      "0  0.002358  0.0067\n",
      " \n",
      " \n",
      " \n",
      "fin\n"
     ]
    }
   ],
   "source": [
    "from src.functions import get_eda\n",
    "%matplotlib inline\n",
    "get_eda(True)\n",
    "print(\" \")\n",
    "print(\"fin\")"
   ]
  },
  {
   "cell_type": "code",
   "execution_count": null,
   "metadata": {},
   "outputs": [],
   "source": []
  },
  {
   "cell_type": "code",
   "execution_count": null,
   "metadata": {},
   "outputs": [],
   "source": []
  }
 ],
 "metadata": {
  "kernelspec": {
   "display_name": "Python 3",
   "language": "python",
   "name": "python3"
  },
  "language_info": {
   "codemirror_mode": {
    "name": "ipython",
    "version": 3
   },
   "file_extension": ".py",
   "mimetype": "text/x-python",
   "name": "python",
   "nbconvert_exporter": "python",
   "pygments_lexer": "ipython3",
   "version": "3.8.6"
  }
 },
 "nbformat": 4,
 "nbformat_minor": 4
}
