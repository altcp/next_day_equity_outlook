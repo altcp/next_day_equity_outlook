{
 "cells": [
  {
   "cell_type": "code",
   "execution_count": 1,
   "metadata": {},
   "outputs": [],
   "source": [
    "#Simple Dashboard  \n",
    "\n",
    "#Instructions for visualization.  \n",
    "#You will need to change the stock symbol notation and the country for which the Exchange resides \n",
    "#and where the stock is traded on into that which represents your instrument of choice in the config file, ./config/config.yml"
   ]
  },
  {
   "cell_type": "code",
   "execution_count": 2,
   "metadata": {},
   "outputs": [
    {
     "name": "stdout",
     "output_type": "stream",
     "text": [
      " \n",
      " \n",
      "Sell Side Quantative Research (SSQR)\n",
      "Next Business Day Outlook, 0.0.1\n",
      " \n",
      " \n",
      "Data Observation: MSFT\n",
      "Start: 28/05/2020\n",
      "End: 04/02/2021\n",
      " \n",
      " \n",
      " \n",
      " \n",
      "          Close  Log Returns     Outcome          X0          X1          X2\n",
      "0    184.910004     0.011312  small gain  182.830002  183.250000  181.399994\n",
      "1    185.360001     0.002431  small gain  184.910004  182.830002  183.250000\n",
      "2    182.919998    -0.013251  small loss  185.360001  184.910004  182.830002\n",
      "3    187.199997     0.023129  small gain  182.919998  185.360001  184.910004\n",
      "4    188.360001     0.006177  small gain  187.199997  182.919998  185.360001\n",
      "..          ...          ...         ...         ...         ...         ...\n",
      "166  231.960007    -0.029606  small loss  238.929993  232.899994  232.330002\n",
      "167  239.649994     0.032615    big gain  231.960007  238.929993  232.899994\n",
      "168  239.509995    -0.000584  small loss  239.649994  231.960007  238.929993\n",
      "169  243.000000     0.014466  small gain  239.509995  239.649994  231.960007\n",
      "170  242.009995    -0.004082  small loss  243.000000  239.509995  239.649994\n",
      "\n",
      "[171 rows x 6 columns]\n",
      " \n",
      " \n",
      "                               SARIMAX Results                                \n",
      "==============================================================================\n",
      "Dep. Variable:                      y   No. Observations:                  170\n",
      "Model:               SARIMAX(0, 0, 1)   Log Likelihood                 438.912\n",
      "Date:                Fri, 05 Feb 2021   AIC                           -873.823\n",
      "Time:                        05:14:15   BIC                           -867.552\n",
      "Sample:                             0   HQIC                          -871.278\n",
      "                                - 170                                         \n",
      "Covariance Type:                  opg                                         \n",
      "==============================================================================\n",
      "                 coef    std err          z      P>|z|      [0.025      0.975]\n",
      "------------------------------------------------------------------------------\n",
      "ma.L1         -0.1672      0.069     -2.441      0.015      -0.302      -0.033\n",
      "sigma2         0.0003   3.13e-05     10.688      0.000       0.000       0.000\n",
      "===================================================================================\n",
      "Ljung-Box (Q):                       39.42   Jarque-Bera (JB):                 7.55\n",
      "Prob(Q):                              0.50   Prob(JB):                         0.02\n",
      "Heteroskedasticity (H):               0.51   Skew:                            -0.28\n",
      "Prob(H) (two-sided):                  0.01   Kurtosis:                         3.86\n",
      "===================================================================================\n",
      "\n",
      "Warnings:\n",
      "[1] Covariance matrix calculated using the outer product of gradients (complex-step).\n",
      " \n",
      " \n",
      "Outlook (Predicted Log Returns) for: 05/02/2021\n",
      " \n",
      "    SARIMAX\n",
      "0  0.000259\n",
      " \n",
      " \n",
      " \n",
      "fin\n"
     ]
    }
   ],
   "source": [
    "from src.functions import get_eda\n",
    "%matplotlib inline\n",
    "get_eda(True)\n",
    "print(\" \")\n",
    "print(\"fin\")"
   ]
  },
  {
   "cell_type": "code",
   "execution_count": null,
   "metadata": {},
   "outputs": [],
   "source": []
  }
 ],
 "metadata": {
  "kernelspec": {
   "display_name": "Python 3",
   "language": "python",
   "name": "python3"
  },
  "language_info": {
   "codemirror_mode": {
    "name": "ipython",
    "version": 3
   },
   "file_extension": ".py",
   "mimetype": "text/x-python",
   "name": "python",
   "nbconvert_exporter": "python",
   "pygments_lexer": "ipython3",
   "version": "3.8.6"
  }
 },
 "nbformat": 4,
 "nbformat_minor": 4
}
