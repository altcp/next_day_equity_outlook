{
 "metadata": {
  "language_info": {
   "codemirror_mode": {
    "name": "ipython",
    "version": 3
   },
   "file_extension": ".py",
   "mimetype": "text/x-python",
   "name": "python",
   "nbconvert_exporter": "python",
   "pygments_lexer": "ipython3",
   "version": 3
  },
  "orig_nbformat": 2
 },
 "nbformat": 4,
 "nbformat_minor": 2,
 "cells": [
  {
   "cell_type": "code",
   "execution_count": null,
   "metadata": {},
   "outputs": [],
   "source": [
    "#Simple Dashboard  \n",
    "\n",
    "#Instructions for visualization.  \n",
    "#You will need to change the stock symbol notation and the country for which the Exchange resides and where the stock is traded on into that which represents your instrument of choice in the config file, ./config/config.yml"
   ]
  },
  {
   "cell_type": "code",
   "execution_count": null,
   "metadata": {},
   "outputs": [],
   "source": [
    "from src.functions import univariate_eda\n",
    "%matplotlib inline\n",
    "univariate_eda(True)\n",
    "print(\" \")\n",
    "print(\"fin\")"
   ]
  }
 ]
}