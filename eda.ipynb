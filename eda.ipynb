{
 "cells": [
  {
   "cell_type": "code",
   "execution_count": 1,
   "metadata": {},
   "outputs": [],
   "source": [
    "#Simple Dashboard  \n",
    "\n",
    "#Instructions for visualization.  \n",
    "#You will need to change the stock symbol notation and the country for which the Exchange resides \n",
    "#and where the stock is traded on into that which represents your instrument of choice in the config file, ./config/config.yml"
   ]
  },
  {
   "cell_type": "code",
   "execution_count": 2,
   "metadata": {},
   "outputs": [
    {
     "name": "stdout",
     "output_type": "stream",
     "text": [
      " \n",
      " \n",
      "Sell Side Quantative Research (SSQR)\n",
      "Next Business Day Outlook, 0.0.1\n",
      " \n",
      " \n",
      "Data Observation Period: MSFT\n",
      "Start: 27/05/2020\n",
      "End: 04/02/2021\n",
      " \n",
      " \n",
      "                               SARIMAX Results                                \n",
      "==============================================================================\n",
      "Dep. Variable:                      y   No. Observations:                  119\n",
      "Model:               SARIMAX(0, 0, 1)   Log Likelihood                 297.757\n",
      "Date:                Thu, 04 Feb 2021   AIC                           -591.513\n",
      "Time:                        05:33:52   BIC                           -585.955\n",
      "Sample:                             0   HQIC                          -589.256\n",
      "                                - 119                                         \n",
      "Covariance Type:                  opg                                         \n",
      "==============================================================================\n",
      "                 coef    std err          z      P>|z|      [0.025      0.975]\n",
      "------------------------------------------------------------------------------\n",
      "ma.L1         -0.1819      0.084     -2.156      0.031      -0.347      -0.017\n",
      "sigma2         0.0004   4.55e-05      8.628      0.000       0.000       0.000\n",
      "===================================================================================\n",
      "Ljung-Box (Q):                       43.05   Jarque-Bera (JB):                 4.16\n",
      "Prob(Q):                              0.34   Prob(JB):                         0.12\n",
      "Heteroskedasticity (H):               1.14   Skew:                            -0.31\n",
      "Prob(H) (two-sided):                  0.68   Kurtosis:                         3.67\n",
      "===================================================================================\n",
      "\n",
      "Warnings:\n",
      "[1] Covariance matrix calculated using the outer product of gradients (complex-step).\n",
      " \n",
      " \n",
      "      Close   Returns     Outcome      X0      X1      X2\n",
      "0    182.83 -0.002295  small loss  183.25  181.40  181.81\n",
      "1    184.91  0.011312  small gain  182.83  183.25  181.40\n",
      "2    185.36  0.002431  small gain  184.91  182.83  183.25\n",
      "3    182.92 -0.013251  small loss  185.36  184.91  182.83\n",
      "4    187.20  0.023129  small gain  182.92  185.36  184.91\n",
      "..      ...       ...         ...     ...     ...     ...\n",
      "166  238.93  0.025561  small gain  232.90  232.33  229.53\n",
      "167  231.96 -0.029606  small loss  238.93  232.90  232.33\n",
      "168  239.65  0.032615    big gain  231.96  238.93  232.90\n",
      "169  239.51 -0.000584  small loss  239.65  231.96  238.93\n",
      "170  243.00  0.014466  small gain  239.51  239.65  231.96\n",
      "\n",
      "[171 rows x 6 columns]\n",
      " \n",
      "fin\n"
     ]
    }
   ],
   "source": [
    "from src.functions import get_eda\n",
    "%matplotlib inline\n",
    "get_eda(True)\n",
    "print(\" \")\n",
    "print(\"fin\")"
   ]
  },
  {
   "cell_type": "code",
   "execution_count": null,
   "metadata": {},
   "outputs": [],
   "source": []
  }
 ],
 "metadata": {
  "kernelspec": {
   "display_name": "Python 3",
   "language": "python",
   "name": "python3"
  },
  "language_info": {
   "codemirror_mode": {
    "name": "ipython",
    "version": 3
   },
   "file_extension": ".py",
   "mimetype": "text/x-python",
   "name": "python",
   "nbconvert_exporter": "python",
   "pygments_lexer": "ipython3",
   "version": "3.8.6"
  }
 },
 "nbformat": 4,
 "nbformat_minor": 4
}
