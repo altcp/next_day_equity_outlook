{
 "metadata": {
  "language_info": {
   "codemirror_mode": {
    "name": "ipython",
    "version": 3
   },
   "file_extension": ".py",
   "mimetype": "text/x-python",
   "name": "python",
   "nbconvert_exporter": "python",
   "pygments_lexer": "ipython3",
   "version": "3.8.5-final"
  },
  "orig_nbformat": 2,
  "kernelspec": {
   "name": "python3",
   "display_name": "Python 3.8.5 64-bit ('.vsch')",
   "metadata": {
    "interpreter": {
     "hash": "a2fea3c4b89cf3bcf08adcadad7dc431b3208c21de5fec363c1e625911933bd6"
    }
   }
  }
 },
 "nbformat": 4,
 "nbformat_minor": 2,
 "cells": [
  {
   "cell_type": "code",
   "execution_count": null,
   "metadata": {},
   "outputs": [],
   "source": [
    "#Simple DashBoard\n",
    "\n",
    "#Instructions for Use\n",
    "# You will need to change the stock symbol notation and the country for which the exchange resides in and where the stock trades # on into that which respresents your instrument of choice in the config file, ./config/config.yml "
   ]
  },
  {
   "cell_type": "code",
   "execution_count": null,
   "metadata": {},
   "outputs": [],
   "source": [
    "from src.functions import get_dashboard\n",
    "%mathplotlib inline\n",
    "get_dashboard(True)\n",
    "print(\" \")\n",
    "print(\"fin\")"
   ]
  }
 ]
}