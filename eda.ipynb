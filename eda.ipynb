{
 "cells": [
  {
   "cell_type": "code",
   "execution_count": 1,
   "metadata": {},
   "outputs": [],
   "source": [
    "#Simple Dashboard  \n",
    "\n",
    "#Instructions for visualization.  \n",
    "#You will need to change the stock symbol notation and the country for which the Exchange resides \n",
    "#and where the stock is traded on into that which represents your instrument of choice in the config file, ./config/config.yml"
   ]
  },
  {
   "cell_type": "code",
   "execution_count": 2,
   "metadata": {},
   "outputs": [
    {
     "name": "stdout",
     "output_type": "stream",
     "text": [
      " \n",
      " \n",
      "Sell Side Quantative Research (SSQR)\n",
      "Next Business Day Outlook, 0.0.1\n",
      " \n",
      " \n",
      "Data Observation: MSFT\n",
      "Start: 29/05/2020\n",
      "End: 05/02/2021\n",
      " \n",
      " \n",
      " \n",
      " \n",
      "          Date       Close  Log Returns     Outcome\n",
      "0   2020-06-02  185.360001     0.002431  small gain\n",
      "1   2020-06-03  182.919998    -0.013251  small loss\n",
      "2   2020-06-04  187.199997     0.023129  small gain\n",
      "3   2020-06-05  188.360001     0.006177  small gain\n",
      "4   2020-06-08  189.800003     0.007616  small gain\n",
      "..         ...         ...          ...         ...\n",
      "166 2021-01-29  239.649994     0.032615    big gain\n",
      "167 2021-02-01  239.509995    -0.000584  small loss\n",
      "168 2021-02-02  243.000000     0.014466  small gain\n",
      "169 2021-02-03  242.009995    -0.004082  small loss\n",
      "170 2021-02-04  242.199997     0.000785  small gain\n",
      "\n",
      "[171 rows x 4 columns]\n",
      " \n",
      " \n",
      "                               SARIMAX Results                                \n",
      "==============================================================================\n",
      "Dep. Variable:                      y   No. Observations:                  170\n",
      "Model:               SARIMAX(0, 0, 1)   Log Likelihood                 439.323\n",
      "Date:                Sun, 07 Feb 2021   AIC                           -874.645\n",
      "Time:                        19:54:38   BIC                           -868.373\n",
      "Sample:                             0   HQIC                          -872.100\n",
      "                                - 170                                         \n",
      "Covariance Type:                  opg                                         \n",
      "==============================================================================\n",
      "                 coef    std err          z      P>|z|      [0.025      0.975]\n",
      "------------------------------------------------------------------------------\n",
      "ma.L1         -0.1703      0.068     -2.496      0.013      -0.304      -0.037\n",
      "sigma2         0.0003    3.1e-05     10.755      0.000       0.000       0.000\n",
      "===================================================================================\n",
      "Ljung-Box (Q):                       40.01   Jarque-Bera (JB):                 8.16\n",
      "Prob(Q):                              0.47   Prob(JB):                         0.02\n",
      "Heteroskedasticity (H):               0.49   Skew:                            -0.29\n",
      "Prob(H) (two-sided):                  0.01   Kurtosis:                         3.91\n",
      "===================================================================================\n",
      "\n",
      "Warnings:\n",
      "[1] Covariance matrix calculated using the outer product of gradients (complex-step).\n",
      " \n",
      " \n",
      "Outlook (Predicted Log Returns) for: 07/02/2021\n",
      " \n",
      "   SARIMAX       SVR\n",
      "0 -0.00009 -0.007146\n",
      " \n",
      " \n",
      " \n",
      "fin\n"
     ]
    }
   ],
   "source": [
    "from src.functions import get_eda\n",
    "%matplotlib inline\n",
    "get_eda(True)\n",
    "print(\" \")\n",
    "print(\"fin\")"
   ]
  },
  {
   "cell_type": "code",
   "execution_count": null,
   "metadata": {},
   "outputs": [],
   "source": []
  },
  {
   "cell_type": "code",
   "execution_count": null,
   "metadata": {},
   "outputs": [],
   "source": []
  }
 ],
 "metadata": {
  "kernelspec": {
   "display_name": "Python 3",
   "language": "python",
   "name": "python3"
  },
  "language_info": {
   "codemirror_mode": {
    "name": "ipython",
    "version": 3
   },
   "file_extension": ".py",
   "mimetype": "text/x-python",
   "name": "python",
   "nbconvert_exporter": "python",
   "pygments_lexer": "ipython3",
   "version": "3.8.6"
  }
 },
 "nbformat": 4,
 "nbformat_minor": 4
}
